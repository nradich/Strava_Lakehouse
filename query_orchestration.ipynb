{
 "cells": [
  {
   "cell_type": "markdown",
   "metadata": {},
   "source": [
    "### Logic to orchestrate querying of Strava API\n",
    "\n",
    "1. Raw query of API to attain all activites currently showing\n",
    "2. Query DBFS for all activities written to storage\n",
    "3. Make comparison, and return those activities not wrriten to storage\n",
    "    - 3a. If all written to storage continue to next comparison\n",
    "4. For those not written storage, query API and write to storage\n",
    "    - Repeat 3 to ensure all activites are written\n",
    "\n",
    "5.  Will now need to compare activities and their associated segments ie each acitvity may have double digit segments\n",
    "\n",
    "6. Looking at query segment notebook for that comparison - checking all activity IDs have been queried\n",
    "    - 6a  IF no continue queries, if yes continue to segment details\n",
    "\n",
    "7. Segment details, will take the longest. Ensure that all segments and their associated details have been queried.    "
   ]
  },
  {
   "cell_type": "markdown",
   "metadata": {},
   "source": [
    "### Step 1"
   ]
  },
  {
   "cell_type": "code",
   "execution_count": null,
   "metadata": {},
   "outputs": [],
   "source": [
    "# make api call to strava API\n",
    "#from query_activities notebook\n",
    "my_dataset = utils.activity_api_call(access_token)\n",
    "\n",
    "#extract the activities\n",
    "activity_id_DF, activity_df = extract_activities(my_dataset)\n",
    "\n",
    "#read in historical activities \n",
    "stored_activity_ids = spark.read.format(\"delta\").load(activity_id_path)\n",
    "activity_id_list = stored_activity_ids.select('activity_id').distinct().rdd.flatMap(lambda x: x).collect()\n",
    "\n",
    "\n",
    "#make comparison between stored and queries\n",
    "#need to convert activity_id_DF to a list of IDS\n",
    "activity_ids_not_written_to_storage = [x for x in activity_id_list if x not in historical_activity_id_list ]\n",
    "\n",
    "#if we do not have all activities written to storage\n",
    "if len(activity_ids_not_written_to_storage) = 0:\n",
    "    continue\n",
    "#take those and query\n",
    "else: new_activities extract_activities(activity_ids_not_written_to_storage) \n",
    "& write_to_storage(new_activities)\n",
    "\n",
    "done:\n",
    "\n",
    "Run check again ie if len(activity_ids_not_written_to_storage) = 0:\n",
    "#Then compare activities with segments to those written in storage\n",
    "\n",
    "#now looking at 'Query_Segment' notebook \n",
    "#will need to compare the activity ids that have already been queried for their segments\n",
    "segments_in_storage = spark.read.format(\"delta\").load(segment_effort_path)\n",
    "activity_ids_with_queried_segments = segments_in_storage.select('activity_id').distinct().rdd.flatMap(lambda x: x).collect()\n",
    "\n",
    "\n",
    "activity_ids_without_queried_segments = [x for x in full_activity_ids  if x not in activity_ids_with_queried_segments ]\n",
    "\n",
    "#will also need to incorporate activities without segments into the results\n",
    "\n",
    "#querying historical segments\n",
    "#will need to make sure that \n",
    "segments_in_storage = spark.read.format(\"delta\").load(segment_effort_path)\n",
    "\n",
    "#make that comparison\n",
    "\n",
    "#will now need to get the segment details, from 'segment_exploration' notebook\n",
    "segment_df = query_segment_details(segment_list)\n",
    "\n",
    "#again making comparison\n",
    "\n",
    "\n",
    "\n",
    "\n",
    "\n",
    "\n"
   ]
  }
 ],
 "metadata": {
  "language_info": {
   "name": "python"
  },
  "orig_nbformat": 4
 },
 "nbformat": 4,
 "nbformat_minor": 2
}
