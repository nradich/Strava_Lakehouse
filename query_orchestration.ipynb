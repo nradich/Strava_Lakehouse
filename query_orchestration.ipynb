{
 "cells": [
  {
   "cell_type": "code",
   "execution_count": 4,
   "metadata": {},
   "outputs": [
    {
     "data": {
      "text/plain": [
       "Code from file 'file:///c%3A/Users/nicholas.radich/Documents/Strava_Lakehouse/config.py':\n",
       " client_id = dbutils.secrets.get(scope = \"key_vault_secrets\", key = \"clientid\") \r\n",
       "client_secret = dbutils.secrets.get(scope = \"key_vault_secrets\", key = \"clientsecret\") \r\n",
       "new_refresh_token = dbutils.secrets.get(scope = \"key_vault_secrets\", key = \"newrefreshtoken\")\r\n",
       "activity_id_path = dbutils.secrets.get(scope = \"key_vault_secrets\", key = \"activityidpath\") \r\n",
       "historical_activity_id_path = dbutils.secrets.get(scope = \"key_vault_secrets\", key = \"historicalactivitydfpath\") \r\n",
       "segment_effort_path = dbutils.secrets.get(scope = \"key_vault_secrets\", key = \"segmenteffortpath\") \r\n",
       "segment_details_path = dbutils.secrets.get(scope = \"key_vault_secrets\", key = \"segmentdetailspath\") \r\n",
       "\r\n",
       "\r\n",
       "\r\n",
       "import requests\r\n",
       "import urllib3\r\n",
       "urllib3.disable_warnings(urllib3.exceptions.InsecureRequestWarning)\r\n",
       "\r\n",
       "auth_url = \"https://www.strava.com/oauth/token\"\r\n",
       "activites_url = \"https://www.strava.com/api/v3/athlete/activities\"\r\n",
       "\r\n",
       "\r\n",
       "payload = {\r\n",
       "    'client_id':  client_id,\r\n",
       "    'client_secret': client_secret,\r\n",
       "    'refresh_token': new_refresh_token,\r\n",
       "    'grant_type': 'refresh_token',\r\n",
       "    'f': 'json'\r\n",
       "}\r\n",
       "\r\n",
       "res = requests.post(auth_url, data=payload, verify=False)\r\n",
       "access_token = res.json()['access_token']"
      ]
     },
     "metadata": {},
     "output_type": "display_data"
    },
    {
     "name": "stdout",
     "output_type": "stream",
     "text": []
    }
   ],
   "source": [
    "%run config"
   ]
  },
  {
   "cell_type": "code",
   "execution_count": 5,
   "metadata": {},
   "outputs": [
    {
     "name": "stdout",
     "output_type": "stream",
     "text": []
    }
   ],
   "source": [
    "from pyspark.sql.functions import * \n",
    "import pandas as pd\n",
    "import utils\n"
   ]
  },
  {
   "cell_type": "markdown",
   "metadata": {},
   "source": [
    "### Logic to orchestrate querying of Strava API\n",
    "\n",
    "1. Raw query of API to attain all activites currently showing\n",
    "2. Query DBFS for all activities written to storage\n",
    "3. Make comparison, and return those activities not wrriten to storage\n",
    "    - 3a. If all written to storage continue to next comparison\n",
    "4. For those not written storage, query API and write to storage\n",
    "    - Repeat 3 to ensure all activites are written\n",
    "\n",
    "5.  Will now need to compare activities and their associated segments ie each acitvity may have double digit segments\n",
    "\n",
    "6. Looking at query segment notebook for that comparison - checking all activity IDs have been queried\n",
    "    - 6a  IF no continue queries, if yes continue to segment details\n",
    "\n",
    "7. Segment details, will take the longest. Ensure that all segments and their associated details have been queried.    "
   ]
  },
  {
   "cell_type": "markdown",
   "metadata": {},
   "source": [
    "### Step 1"
   ]
  },
  {
   "cell_type": "markdown",
   "metadata": {},
   "source": [
    "#### Makes 1 API Call"
   ]
  },
  {
   "cell_type": "code",
   "execution_count": 6,
   "metadata": {},
   "outputs": [
    {
     "name": "stdout",
     "output_type": "stream",
     "text": []
    }
   ],
   "source": [
    "api_starting_limit = 99"
   ]
  },
  {
   "cell_type": "code",
   "execution_count": 8,
   "metadata": {},
   "outputs": [
    {
     "name": "stdout",
     "output_type": "stream",
     "text": []
    }
   ],
   "source": [
    "#authenticate to API\n",
    "my_dataset = utils.activity_api_call(access_token)\n",
    "#grab activity ids, and the more information about the activities\n",
    "activity_id_DF, activity_df = utils.extract_activities(my_dataset)\n",
    "\n",
    "#stored activitity ids is where we will compare what we queries in the api, vs what is in storage\n",
    "stored_activity_ids = spark.read.format(\"delta\").load(activity_id_path)\n",
    "\n",
    "#islote the distinct activity Ids from each dataframe\n",
    "activity_id_list_in_storage = stored_activity_ids.select('activity_id').distinct().rdd.flatMap(lambda x: x).collect()\n",
    "activity_ids_from_API = activity_id_DF.select('activity_id').distinct().rdd.flatMap(lambda x:x).collect()\n",
    "\n",
    "#find activities not writtent to storage\n",
    "activity_ids_not_in_storage = utils.list_comparison(activity_id_list_in_storage,activity_ids_from_API )\n",
    "\n",
    "\n",
    "#ensure that there are activites to write to storage, otherwise continue\n",
    "if len(activity_ids_not_in_storage) >0:\n",
    "\n",
    "    #take ids not writtent to storage from activity_df and filter them\n",
    "    new_activities = activity_df.filter(activity_df.activity_ids.isin(activity_ids_not_in_storage))\n",
    "    new_ids = activity_id_DF.filter(activity_id_DF.activity_id.isin(activity_ids_not_in_storage))\n",
    "\n",
    "    #write new activities to storage, ensure no duplicates\n",
    "    utils.write_dataframe_to_storage(new_activities,historical_activity_id_path, \"mergeSchema\", \"append\" )\n",
    "    utils.write_dataframe_to_storage(new_ids,activity_id_path, \"mergeSchema\", \"append\" )\n",
    "\n"
   ]
  },
  {
   "cell_type": "code",
   "execution_count": 14,
   "metadata": {},
   "outputs": [
    {
     "name": "stdout",
     "output_type": "stream",
     "text": []
    }
   ],
   "source": [
    "#activity ids in storage post compare\n",
    "stored_activity_ids = spark.read.format(\"delta\").load(activity_id_path)\n",
    "\n",
    "#activity IDs with segments in storage, \n",
    "segments_in_storage = spark.read.format(\"delta\").load(segment_effort_path)\n",
    "\n",
    "#isolte activity_ids\n",
    "activities_with_segments_in_storage = segments_in_storage.select('activity_id').distinct().rdd.flatMap(lambda x: x).collect()\n",
    "activity_ids_all = stored_activity_ids.select('activity_id').distinct().rdd.flatMap(lambda x: x).collect()\n",
    "\n",
    "#compare the two\n",
    "activities_without_segments = utils.list_comparison(activities_with_segments_in_storage, activity_ids_all)\n",
    "#returns activities with out semgment information\n",
    "#now need to query segment info, will probably hit 99 request limit\n",
    "\n",
    "\n",
    "if len(activities_without_segments) > 0: \n",
    "    #condition that if there are activities to query, do it, otherwise continue on       \n",
    "\n",
    "    #got activities and semgents\n",
    "    segment_id_df = utils.query_segments(activities_without_segments, access_token)\n",
    "\n",
    "    #need to add in activities that don' have segments\n",
    "    returned_activity_ids = segment_id_df.select(\"activity_id\").distinct().rdd.flatMap(lambda x: x).collect()\n",
    "    activities_no_segments = utils.list_comparison(returned_activity_ids, activities_without_segments)\n",
    "    all_activities_with_segments = utils.append_activities_without_segments(segment_id_df,activities_no_segments )\n",
    "\n",
    "    #write all queried segments to storage\n",
    "    utils.write_dataframe_to_storage(all_activities_with_segments, segment_effort_path, \"mergeSchema\", \"append\")\n"
   ]
  },
  {
   "cell_type": "code",
   "execution_count": 16,
   "metadata": {},
   "outputs": [
    {
     "name": "stdout",
     "output_type": "stream",
     "text": []
    }
   ],
   "source": [
    "post_activity_api_limit = api_starting_limit - len(activities_without_segments)"
   ]
  },
  {
   "cell_type": "markdown",
   "metadata": {},
   "source": [
    "## Section for querying segment information"
   ]
  },
  {
   "cell_type": "code",
   "execution_count": 21,
   "metadata": {},
   "outputs": [
    {
     "name": "stdout",
     "output_type": "stream",
     "text": []
    }
   ],
   "source": [
    "segment_details_to_query_filtered =[x for x in segment_details_to_query if x is not None] "
   ]
  },
  {
   "cell_type": "code",
   "execution_count": 25,
   "metadata": {},
   "outputs": [
    {
     "data": {
      "application/databricks-table": "{\n\t\"resultType\": \"table\",\n\t\"data\": [\n\t\t[\n\t\t\t\"31267101453397970929656452945\",\n\t\t\t3126710145339797000,\n\t\t\t9656452945,\n\t\t\t\"segment_efforts_ids\",\n\t\t\t\"2023-08-29T22:43:01.062+0000\"\n\t\t],\n\t\t[\n\t\t\t\"31267101453402988529656452945\",\n\t\t\t3126710145340299000,\n\t\t\t9656452945,\n\t\t\t\"segment_efforts_ids\",\n\t\t\t\"2023-08-29T22:43:01.062+0000\"\n\t\t],\n\t\t[\n\t\t\t\"31267101453341384689656452945\",\n\t\t\t3126710145334138400,\n\t\t\t9656452945,\n\t\t\t\"segment_efforts_ids\",\n\t\t\t\"2023-08-29T22:43:01.062+0000\"\n\t\t],\n\t\t[\n\t\t\t\"31267101453406920689656452945\",\n\t\t\t3126710145340692000,\n\t\t\t9656452945,\n\t\t\t\"segment_efforts_ids\",\n\t\t\t\"2023-08-29T22:43:01.062+0000\"\n\t\t],\n\t\t[\n\t\t\t\"31267101453372934129656452945\",\n\t\t\t3126710145337293300,\n\t\t\t9656452945,\n\t\t\t\"segment_efforts_ids\",\n\t\t\t\"2023-08-29T22:43:01.062+0000\"\n\t\t],\n\t\t[\n\t\t\t\"31267101453366185969656452945\",\n\t\t\t3126710145336618500,\n\t\t\t9656452945,\n\t\t\t\"segment_efforts_ids\",\n\t\t\t\"2023-08-29T22:43:01.062+0000\"\n\t\t],\n\t\t[\n\t\t\t\"31267101453369288689656452945\",\n\t\t\t3126710145336929000,\n\t\t\t9656452945,\n\t\t\t\"segment_efforts_ids\",\n\t\t\t\"2023-08-29T22:43:01.062+0000\"\n\t\t],\n\t\t[\n\t\t\t\"31267101453371592689656452945\",\n\t\t\t3126710145337159000,\n\t\t\t9656452945,\n\t\t\t\"segment_efforts_ids\",\n\t\t\t\"2023-08-29T22:43:01.062+0000\"\n\t\t],\n\t\t[\n\t\t\t\"31267101453417805809656452945\",\n\t\t\t3126710145341780500,\n\t\t\t9656452945,\n\t\t\t\"segment_efforts_ids\",\n\t\t\t\"2023-08-29T22:43:01.062+0000\"\n\t\t],\n\t\t[\n\t\t\t\"31267101453385119729656452945\",\n\t\t\t3126710145338512000,\n\t\t\t9656452945,\n\t\t\t\"segment_efforts_ids\",\n\t\t\t\"2023-08-29T22:43:01.062+0000\"\n\t\t],\n\t\t[\n\t\t\t\"31267101453356867569656452945\",\n\t\t\t3126710145335686700,\n\t\t\t9656452945,\n\t\t\t\"segment_efforts_ids\",\n\t\t\t\"2023-08-29T22:43:01.062+0000\"\n\t\t],\n\t\t[\n\t\t\t\"31267101453396168689656452945\",\n\t\t\t3126710145339617000,\n\t\t\t9656452945,\n\t\t\t\"segment_efforts_ids\",\n\t\t\t\"2023-08-29T22:43:01.062+0000\"\n\t\t],\n\t\t[\n\t\t\t\"31267101453388161009656452945\",\n\t\t\t3126710145338816000,\n\t\t\t9656452945,\n\t\t\t\"segment_efforts_ids\",\n\t\t\t\"2023-08-29T22:43:01.062+0000\"\n\t\t],\n\t\t[\n\t\t\t\"31267101453407944689656452945\",\n\t\t\t3126710145340794400,\n\t\t\t9656452945,\n\t\t\t\"segment_efforts_ids\",\n\t\t\t\"2023-08-29T22:43:01.062+0000\"\n\t\t],\n\t\t[\n\t\t\t\"31267101453403213809656452945\",\n\t\t\t3126710145340321300,\n\t\t\t9656452945,\n\t\t\t\"segment_efforts_ids\",\n\t\t\t\"2023-08-29T22:43:01.062+0000\"\n\t\t],\n\t\t[\n\t\t\t\"31267101453398288369656452945\",\n\t\t\t3126710145339828700,\n\t\t\t9656452945,\n\t\t\t\"segment_efforts_ids\",\n\t\t\t\"2023-08-29T22:43:01.062+0000\"\n\t\t],\n\t\t[\n\t\t\t\"31267101453379784689656452945\",\n\t\t\t3126710145337978400,\n\t\t\t9656452945,\n\t\t\t\"segment_efforts_ids\",\n\t\t\t\"2023-08-29T22:43:01.062+0000\"\n\t\t],\n\t\t[\n\t\t\t\"31267101453370855409656452945\",\n\t\t\t3126710145337085400,\n\t\t\t9656452945,\n\t\t\t\"segment_efforts_ids\",\n\t\t\t\"2023-08-29T22:43:01.062+0000\"\n\t\t],\n\t\t[\n\t\t\t\"31267101453382201329656452945\",\n\t\t\t3126710145338220000,\n\t\t\t9656452945,\n\t\t\t\"segment_efforts_ids\",\n\t\t\t\"2023-08-29T22:43:01.062+0000\"\n\t\t],\n\t\t[\n\t\t\t\"31267101453345050609656452945\",\n\t\t\t3126710145334505000,\n\t\t\t9656452945,\n\t\t\t\"segment_efforts_ids\",\n\t\t\t\"2023-08-29T22:43:01.062+0000\"\n\t\t],\n\t\t[\n\t\t\t\"31267101453367793649656452945\",\n\t\t\t3126710145336779300,\n\t\t\t9656452945,\n\t\t\t\"segment_efforts_ids\",\n\t\t\t\"2023-08-29T22:43:01.062+0000\"\n\t\t],\n\t\t[\n\t\t\t\"31267101453374296049656452945\",\n\t\t\t3126710145337429500,\n\t\t\t9656452945,\n\t\t\t\"segment_efforts_ids\",\n\t\t\t\"2023-08-29T22:43:01.062+0000\"\n\t\t],\n\t\t[\n\t\t\t\"31267101453358905329656452945\",\n\t\t\t3126710145335890400,\n\t\t\t9656452945,\n\t\t\t\"segment_efforts_ids\",\n\t\t\t\"2023-08-29T22:43:01.062+0000\"\n\t\t],\n\t\t[\n\t\t\t\"31267101453353365489656452945\",\n\t\t\t3126710145335336400,\n\t\t\t9656452945,\n\t\t\t\"segment_efforts_ids\",\n\t\t\t\"2023-08-29T22:43:01.062+0000\"\n\t\t],\n\t\t[\n\t\t\t\"31267101453375350769656452945\",\n\t\t\t3126710145337535000,\n\t\t\t9656452945,\n\t\t\t\"segment_efforts_ids\",\n\t\t\t\"2023-08-29T22:43:01.062+0000\"\n\t\t],\n\t\t[\n\t\t\t\"31267101453345429489656452945\",\n\t\t\t3126710145334543000,\n\t\t\t9656452945,\n\t\t\t\"segment_efforts_ids\",\n\t\t\t\"2023-08-29T22:43:01.062+0000\"\n\t\t],\n\t\t[\n\t\t\t\"31267101453379119089656452945\",\n\t\t\t3126710145337912000,\n\t\t\t9656452945,\n\t\t\t\"segment_efforts_ids\",\n\t\t\t\"2023-08-29T22:43:01.062+0000\"\n\t\t],\n\t\t[\n\t\t\t\"31267101453367855089656452945\",\n\t\t\t3126710145336785400,\n\t\t\t9656452945,\n\t\t\t\"segment_efforts_ids\",\n\t\t\t\"2023-08-29T22:43:01.062+0000\"\n\t\t],\n\t\t[\n\t\t\t\"31267101453359212529656452945\",\n\t\t\t3126710145335921000,\n\t\t\t9656452945,\n\t\t\t\"segment_efforts_ids\",\n\t\t\t\"2023-08-29T22:43:01.062+0000\"\n\t\t],\n\t\t[\n\t\t\t\"31267101453354491889656452945\",\n\t\t\t3126710145335449000,\n\t\t\t9656452945,\n\t\t\t\"segment_efforts_ids\",\n\t\t\t\"2023-08-29T22:43:01.062+0000\"\n\t\t],\n\t\t[\n\t\t\t\"31267101453343197169656452945\",\n\t\t\t3126710145334319600,\n\t\t\t9656452945,\n\t\t\t\"segment_efforts_ids\",\n\t\t\t\"2023-08-29T22:43:01.062+0000\"\n\t\t],\n\t\t[\n\t\t\t\"31267101453359560689656452945\",\n\t\t\t3126710145335956000,\n\t\t\t9656452945,\n\t\t\t\"segment_efforts_ids\",\n\t\t\t\"2023-08-29T22:43:01.062+0000\"\n\t\t],\n\t\t[\n\t\t\t\"31267101453373569009656452945\",\n\t\t\t3126710145337357000,\n\t\t\t9656452945,\n\t\t\t\"segment_efforts_ids\",\n\t\t\t\"2023-08-29T22:43:01.062+0000\"\n\t\t],\n\t\t[\n\t\t\t\"31267101453374429169656452945\",\n\t\t\t3126710145337443000,\n\t\t\t9656452945,\n\t\t\t\"segment_efforts_ids\",\n\t\t\t\"2023-08-29T22:43:01.062+0000\"\n\t\t],\n\t\t[\n\t\t\t\"9663381569\",\n\t\t\tnull,\n\t\t\t9663381569,\n\t\t\t\"segment_efforts_ids\",\n\t\t\t\"2023-08-29T22:43:01.062+0000\"\n\t\t],\n\t\t[\n\t\t\t\"9635250821\",\n\t\t\tnull,\n\t\t\t9635250821,\n\t\t\t\"segment_efforts_ids\",\n\t\t\t\"2023-08-29T22:43:01.062+0000\"\n\t\t]\n\t],\n\t\"schema\": [\n\t\t{\n\t\t\t\"name\": \"Activity_Segment_JointID\",\n\t\t\t\"type\": \"\\\"string\\\"\",\n\t\t\t\"metadata\": \"{}\"\n\t\t},\n\t\t{\n\t\t\t\"name\": \"segment_id\",\n\t\t\t\"type\": \"\\\"long\\\"\",\n\t\t\t\"metadata\": \"{}\"\n\t\t},\n\t\t{\n\t\t\t\"name\": \"activity_id\",\n\t\t\t\"type\": \"\\\"long\\\"\",\n\t\t\t\"metadata\": \"{}\"\n\t\t},\n\t\t{\n\t\t\t\"name\": \"ingest_file_name\",\n\t\t\t\"type\": \"\\\"string\\\"\",\n\t\t\t\"metadata\": \"{}\"\n\t\t},\n\t\t{\n\t\t\t\"name\": \"ingested_at\",\n\t\t\t\"type\": \"\\\"timestamp\\\"\",\n\t\t\t\"metadata\": \"{}\"\n\t\t}\n\t],\n\t\"truncated\": false,\n\t\"isJsonSchema\": true\n}",
      "application/vnd.code.notebook.error": {
       "message": "o.endsWith is not a function",
       "name": "TypeError",
       "stack": "TypeError: o.endsWith is not a function\n\tat i (c:\\Users\\nicholas.radich\\AppData\\Local\\Programs\\Microsoft VS Code\\resources\\app\\extensions\\ipynb\\dist\\ipynbMain.js:1:142405)\n\tat c (c:\\Users\\nicholas.radich\\AppData\\Local\\Programs\\Microsoft VS Code\\resources\\app\\extensions\\ipynb\\dist\\ipynbMain.js:1:143044)\n\tat f (c:\\Users\\nicholas.radich\\AppData\\Local\\Programs\\Microsoft VS Code\\resources\\app\\extensions\\ipynb\\dist\\ipynbMain.js:1:143852)\n\tat h (c:\\Users\\nicholas.radich\\AppData\\Local\\Programs\\Microsoft VS Code\\resources\\app\\extensions\\ipynb\\dist\\ipynbMain.js:1:144591)\n\tat Array.map (<anonymous>)\n\tat c:\\Users\\nicholas.radich\\AppData\\Local\\Programs\\Microsoft VS Code\\resources\\app\\extensions\\ipynb\\dist\\ipynbMain.js:1:145700\n\tat c:\\Users\\nicholas.radich\\AppData\\Local\\Programs\\Microsoft VS Code\\resources\\app\\extensions\\ipynb\\dist\\ipynbMain.js:1:146017\n\tat c:\\Users\\nicholas.radich\\AppData\\Local\\Programs\\Microsoft VS Code\\resources\\app\\extensions\\ipynb\\dist\\ipynbMain.js:1:146024\n\tat Array.map (<anonymous>)\n\tat e.$G (c:\\Users\\nicholas.radich\\AppData\\Local\\Programs\\Microsoft VS Code\\resources\\app\\extensions\\ipynb\\dist\\ipynbMain.js:1:145276)\n\tat e.$P.deserializeNotebook (c:\\Users\\nicholas.radich\\AppData\\Local\\Programs\\Microsoft VS Code\\resources\\app\\extensions\\ipynb\\dist\\ipynbMain.js:1:156893)\n\tat i.$dataToNotebook (c:\\Users\\nicholas.radich\\AppData\\Local\\Programs\\Microsoft VS Code\\resources\\app\\out\\vs\\workbench\\api\\node\\extensionHostProcess.js:104:89773)\n\tat t.N (c:\\Users\\nicholas.radich\\AppData\\Local\\Programs\\Microsoft VS Code\\resources\\app\\out\\vs\\workbench\\api\\node\\extensionHostProcess.js:114:7983)\n\tat t.M (c:\\Users\\nicholas.radich\\AppData\\Local\\Programs\\Microsoft VS Code\\resources\\app\\out\\vs\\workbench\\api\\node\\extensionHostProcess.js:114:7749)\n\tat t.H (c:\\Users\\nicholas.radich\\AppData\\Local\\Programs\\Microsoft VS Code\\resources\\app\\out\\vs\\workbench\\api\\node\\extensionHostProcess.js:114:6791)\n\tat t.G (c:\\Users\\nicholas.radich\\AppData\\Local\\Programs\\Microsoft VS Code\\resources\\app\\out\\vs\\workbench\\api\\node\\extensionHostProcess.js:114:6045)\n\tat r.value (c:\\Users\\nicholas.radich\\AppData\\Local\\Programs\\Microsoft VS Code\\resources\\app\\out\\vs\\workbench\\api\\node\\extensionHostProcess.js:114:4736)\n\tat f.w (c:\\Users\\nicholas.radich\\AppData\\Local\\Programs\\Microsoft VS Code\\resources\\app\\out\\vs\\workbench\\api\\node\\extensionHostProcess.js:63:1902)\n\tat f.fire (c:\\Users\\nicholas.radich\\AppData\\Local\\Programs\\Microsoft VS Code\\resources\\app\\out\\vs\\workbench\\api\\node\\extensionHostProcess.js:63:2119)\n\tat y.fire (c:\\Users\\nicholas.radich\\AppData\\Local\\Programs\\Microsoft VS Code\\resources\\app\\out\\vs\\workbench\\api\\node\\extensionHostProcess.js:79:13931)\n\tat r.value (c:\\Users\\nicholas.radich\\AppData\\Local\\Programs\\Microsoft VS Code\\resources\\app\\out\\vs\\workbench\\api\\node\\extensionHostProcess.js:130:30355)\n\tat f.w (c:\\Users\\nicholas.radich\\AppData\\Local\\Programs\\Microsoft VS Code\\resources\\app\\out\\vs\\workbench\\api\\node\\extensionHostProcess.js:63:1902)\n\tat f.fire (c:\\Users\\nicholas.radich\\AppData\\Local\\Programs\\Microsoft VS Code\\resources\\app\\out\\vs\\workbench\\api\\node\\extensionHostProcess.js:63:2119)\n\tat y.fire (c:\\Users\\nicholas.radich\\AppData\\Local\\Programs\\Microsoft VS Code\\resources\\app\\out\\vs\\workbench\\api\\node\\extensionHostProcess.js:79:13931)\n\tat MessagePortMain.<anonymous> (c:\\Users\\nicholas.radich\\AppData\\Local\\Programs\\Microsoft VS Code\\resources\\app\\out\\vs\\workbench\\api\\node\\extensionHostProcess.js:130:28635)\n\tat MessagePortMain.emit (node:events:513:28)\n\tat MessagePortMain._internalPort.emit (node:electron/js2c/utility_init:2:367)"
      },
      "text/html": [
       "<div style=\"height:300px;overflow:auto;resize:both;\"><table style=\"width:100%\" class=\"searchable sortable\"><thead><tr><th>Activity_Segment_JointID</th><th>segment_id</th><th>activity_id</th><th>ingest_file_name</th><th>ingested_at</th></tr></thead><tbody><tr><td>31267101453397970929656452945</td><td>3126710145339797000</td><td>9656452945</td><td>segment_efforts_ids</td><td>2023-08-29T22:43:01.062+0000</td></tr><tr><td>31267101453402988529656452945</td><td>3126710145340299000</td><td>9656452945</td><td>segment_efforts_ids</td><td>2023-08-29T22:43:01.062+0000</td></tr><tr><td>31267101453341384689656452945</td><td>3126710145334138400</td><td>9656452945</td><td>segment_efforts_ids</td><td>2023-08-29T22:43:01.062+0000</td></tr><tr><td>31267101453406920689656452945</td><td>3126710145340692000</td><td>9656452945</td><td>segment_efforts_ids</td><td>2023-08-29T22:43:01.062+0000</td></tr><tr><td>31267101453372934129656452945</td><td>3126710145337293300</td><td>9656452945</td><td>segment_efforts_ids</td><td>2023-08-29T22:43:01.062+0000</td></tr><tr><td>31267101453366185969656452945</td><td>3126710145336618500</td><td>9656452945</td><td>segment_efforts_ids</td><td>2023-08-29T22:43:01.062+0000</td></tr><tr><td>31267101453369288689656452945</td><td>3126710145336929000</td><td>9656452945</td><td>segment_efforts_ids</td><td>2023-08-29T22:43:01.062+0000</td></tr><tr><td>31267101453371592689656452945</td><td>3126710145337159000</td><td>9656452945</td><td>segment_efforts_ids</td><td>2023-08-29T22:43:01.062+0000</td></tr><tr><td>31267101453417805809656452945</td><td>3126710145341780500</td><td>9656452945</td><td>segment_efforts_ids</td><td>2023-08-29T22:43:01.062+0000</td></tr><tr><td>31267101453385119729656452945</td><td>3126710145338512000</td><td>9656452945</td><td>segment_efforts_ids</td><td>2023-08-29T22:43:01.062+0000</td></tr><tr><td>31267101453356867569656452945</td><td>3126710145335686700</td><td>9656452945</td><td>segment_efforts_ids</td><td>2023-08-29T22:43:01.062+0000</td></tr><tr><td>31267101453396168689656452945</td><td>3126710145339617000</td><td>9656452945</td><td>segment_efforts_ids</td><td>2023-08-29T22:43:01.062+0000</td></tr><tr><td>31267101453388161009656452945</td><td>3126710145338816000</td><td>9656452945</td><td>segment_efforts_ids</td><td>2023-08-29T22:43:01.062+0000</td></tr><tr><td>31267101453407944689656452945</td><td>3126710145340794400</td><td>9656452945</td><td>segment_efforts_ids</td><td>2023-08-29T22:43:01.062+0000</td></tr><tr><td>31267101453403213809656452945</td><td>3126710145340321300</td><td>9656452945</td><td>segment_efforts_ids</td><td>2023-08-29T22:43:01.062+0000</td></tr><tr><td>31267101453398288369656452945</td><td>3126710145339828700</td><td>9656452945</td><td>segment_efforts_ids</td><td>2023-08-29T22:43:01.062+0000</td></tr><tr><td>31267101453379784689656452945</td><td>3126710145337978400</td><td>9656452945</td><td>segment_efforts_ids</td><td>2023-08-29T22:43:01.062+0000</td></tr><tr><td>31267101453370855409656452945</td><td>3126710145337085400</td><td>9656452945</td><td>segment_efforts_ids</td><td>2023-08-29T22:43:01.062+0000</td></tr><tr><td>31267101453382201329656452945</td><td>3126710145338220000</td><td>9656452945</td><td>segment_efforts_ids</td><td>2023-08-29T22:43:01.062+0000</td></tr><tr><td>31267101453345050609656452945</td><td>3126710145334505000</td><td>9656452945</td><td>segment_efforts_ids</td><td>2023-08-29T22:43:01.062+0000</td></tr><tr><td>31267101453367793649656452945</td><td>3126710145336779300</td><td>9656452945</td><td>segment_efforts_ids</td><td>2023-08-29T22:43:01.062+0000</td></tr><tr><td>31267101453374296049656452945</td><td>3126710145337429500</td><td>9656452945</td><td>segment_efforts_ids</td><td>2023-08-29T22:43:01.062+0000</td></tr><tr><td>31267101453358905329656452945</td><td>3126710145335890400</td><td>9656452945</td><td>segment_efforts_ids</td><td>2023-08-29T22:43:01.062+0000</td></tr><tr><td>31267101453353365489656452945</td><td>3126710145335336400</td><td>9656452945</td><td>segment_efforts_ids</td><td>2023-08-29T22:43:01.062+0000</td></tr><tr><td>31267101453375350769656452945</td><td>3126710145337535000</td><td>9656452945</td><td>segment_efforts_ids</td><td>2023-08-29T22:43:01.062+0000</td></tr><tr><td>31267101453345429489656452945</td><td>3126710145334543000</td><td>9656452945</td><td>segment_efforts_ids</td><td>2023-08-29T22:43:01.062+0000</td></tr><tr><td>31267101453379119089656452945</td><td>3126710145337912000</td><td>9656452945</td><td>segment_efforts_ids</td><td>2023-08-29T22:43:01.062+0000</td></tr><tr><td>31267101453367855089656452945</td><td>3126710145336785400</td><td>9656452945</td><td>segment_efforts_ids</td><td>2023-08-29T22:43:01.062+0000</td></tr><tr><td>31267101453359212529656452945</td><td>3126710145335921000</td><td>9656452945</td><td>segment_efforts_ids</td><td>2023-08-29T22:43:01.062+0000</td></tr><tr><td>31267101453354491889656452945</td><td>3126710145335449000</td><td>9656452945</td><td>segment_efforts_ids</td><td>2023-08-29T22:43:01.062+0000</td></tr><tr><td>31267101453343197169656452945</td><td>3126710145334319600</td><td>9656452945</td><td>segment_efforts_ids</td><td>2023-08-29T22:43:01.062+0000</td></tr><tr><td>31267101453359560689656452945</td><td>3126710145335956000</td><td>9656452945</td><td>segment_efforts_ids</td><td>2023-08-29T22:43:01.062+0000</td></tr><tr><td>31267101453373569009656452945</td><td>3126710145337357000</td><td>9656452945</td><td>segment_efforts_ids</td><td>2023-08-29T22:43:01.062+0000</td></tr><tr><td>31267101453374429169656452945</td><td>3126710145337443000</td><td>9656452945</td><td>segment_efforts_ids</td><td>2023-08-29T22:43:01.062+0000</td></tr><tr><td>9663381569</td><td>null</td><td>9663381569</td><td>segment_efforts_ids</td><td>2023-08-29T22:43:01.062+0000</td></tr><tr><td>9635250821</td><td>null</td><td>9635250821</td><td>segment_efforts_ids</td><td>2023-08-29T22:43:01.062+0000</td></tr></tbody></table></div>"
      ],
      "text/x-json": [
       "[\n",
       "\t{\n",
       "\t\t\"Activity_Segment_JointID\": \"31267101453397970929656452945\",\n",
       "\t\t\"segment_id\": 3126710145339797000,\n",
       "\t\t\"activity_id\": 9656452945,\n",
       "\t\t\"ingest_file_name\": \"segment_efforts_ids\",\n",
       "\t\t\"ingested_at\": \"2023-08-29T22:43:01.062+0000\"\n",
       "\t},\n",
       "\t{\n",
       "\t\t\"Activity_Segment_JointID\": \"31267101453402988529656452945\",\n",
       "\t\t\"segment_id\": 3126710145340299000,\n",
       "\t\t\"activity_id\": 9656452945,\n",
       "\t\t\"ingest_file_name\": \"segment_efforts_ids\",\n",
       "\t\t\"ingested_at\": \"2023-08-29T22:43:01.062+0000\"\n",
       "\t},\n",
       "\t{\n",
       "\t\t\"Activity_Segment_JointID\": \"31267101453341384689656452945\",\n",
       "\t\t\"segment_id\": 3126710145334138400,\n",
       "\t\t\"activity_id\": 9656452945,\n",
       "\t\t\"ingest_file_name\": \"segment_efforts_ids\",\n",
       "\t\t\"ingested_at\": \"2023-08-29T22:43:01.062+0000\"\n",
       "\t},\n",
       "\t{\n",
       "\t\t\"Activity_Segment_JointID\": \"31267101453406920689656452945\",\n",
       "\t\t\"segment_id\": 3126710145340692000,\n",
       "\t\t\"activity_id\": 9656452945,\n",
       "\t\t\"ingest_file_name\": \"segment_efforts_ids\",\n",
       "\t\t\"ingested_at\": \"2023-08-29T22:43:01.062+0000\"\n",
       "\t},\n",
       "\t{\n",
       "\t\t\"Activity_Segment_JointID\": \"31267101453372934129656452945\",\n",
       "\t\t\"segment_id\": 3126710145337293300,\n",
       "\t\t\"activity_id\": 9656452945,\n",
       "\t\t\"ingest_file_name\": \"segment_efforts_ids\",\n",
       "\t\t\"ingested_at\": \"2023-08-29T22:43:01.062+0000\"\n",
       "\t},\n",
       "\t{\n",
       "\t\t\"Activity_Segment_JointID\": \"31267101453366185969656452945\",\n",
       "\t\t\"segment_id\": 3126710145336618500,\n",
       "\t\t\"activity_id\": 9656452945,\n",
       "\t\t\"ingest_file_name\": \"segment_efforts_ids\",\n",
       "\t\t\"ingested_at\": \"2023-08-29T22:43:01.062+0000\"\n",
       "\t},\n",
       "\t{\n",
       "\t\t\"Activity_Segment_JointID\": \"31267101453369288689656452945\",\n",
       "\t\t\"segment_id\": 3126710145336929000,\n",
       "\t\t\"activity_id\": 9656452945,\n",
       "\t\t\"ingest_file_name\": \"segment_efforts_ids\",\n",
       "\t\t\"ingested_at\": \"2023-08-29T22:43:01.062+0000\"\n",
       "\t},\n",
       "\t{\n",
       "\t\t\"Activity_Segment_JointID\": \"31267101453371592689656452945\",\n",
       "\t\t\"segment_id\": 3126710145337159000,\n",
       "\t\t\"activity_id\": 9656452945,\n",
       "\t\t\"ingest_file_name\": \"segment_efforts_ids\",\n",
       "\t\t\"ingested_at\": \"2023-08-29T22:43:01.062+0000\"\n",
       "\t},\n",
       "\t{\n",
       "\t\t\"Activity_Segment_JointID\": \"31267101453417805809656452945\",\n",
       "\t\t\"segment_id\": 3126710145341780500,\n",
       "\t\t\"activity_id\": 9656452945,\n",
       "\t\t\"ingest_file_name\": \"segment_efforts_ids\",\n",
       "\t\t\"ingested_at\": \"2023-08-29T22:43:01.062+0000\"\n",
       "\t},\n",
       "\t{\n",
       "\t\t\"Activity_Segment_JointID\": \"31267101453385119729656452945\",\n",
       "\t\t\"segment_id\": 3126710145338512000,\n",
       "\t\t\"activity_id\": 9656452945,\n",
       "\t\t\"ingest_file_name\": \"segment_efforts_ids\",\n",
       "\t\t\"ingested_at\": \"2023-08-29T22:43:01.062+0000\"\n",
       "\t},\n",
       "\t{\n",
       "\t\t\"Activity_Segment_JointID\": \"31267101453356867569656452945\",\n",
       "\t\t\"segment_id\": 3126710145335686700,\n",
       "\t\t\"activity_id\": 9656452945,\n",
       "\t\t\"ingest_file_name\": \"segment_efforts_ids\",\n",
       "\t\t\"ingested_at\": \"2023-08-29T22:43:01.062+0000\"\n",
       "\t},\n",
       "\t{\n",
       "\t\t\"Activity_Segment_JointID\": \"31267101453396168689656452945\",\n",
       "\t\t\"segment_id\": 3126710145339617000,\n",
       "\t\t\"activity_id\": 9656452945,\n",
       "\t\t\"ingest_file_name\": \"segment_efforts_ids\",\n",
       "\t\t\"ingested_at\": \"2023-08-29T22:43:01.062+0000\"\n",
       "\t},\n",
       "\t{\n",
       "\t\t\"Activity_Segment_JointID\": \"31267101453388161009656452945\",\n",
       "\t\t\"segment_id\": 3126710145338816000,\n",
       "\t\t\"activity_id\": 9656452945,\n",
       "\t\t\"ingest_file_name\": \"segment_efforts_ids\",\n",
       "\t\t\"ingested_at\": \"2023-08-29T22:43:01.062+0000\"\n",
       "\t},\n",
       "\t{\n",
       "\t\t\"Activity_Segment_JointID\": \"31267101453407944689656452945\",\n",
       "\t\t\"segment_id\": 3126710145340794400,\n",
       "\t\t\"activity_id\": 9656452945,\n",
       "\t\t\"ingest_file_name\": \"segment_efforts_ids\",\n",
       "\t\t\"ingested_at\": \"2023-08-29T22:43:01.062+0000\"\n",
       "\t},\n",
       "\t{\n",
       "\t\t\"Activity_Segment_JointID\": \"31267101453403213809656452945\",\n",
       "\t\t\"segment_id\": 3126710145340321300,\n",
       "\t\t\"activity_id\": 9656452945,\n",
       "\t\t\"ingest_file_name\": \"segment_efforts_ids\",\n",
       "\t\t\"ingested_at\": \"2023-08-29T22:43:01.062+0000\"\n",
       "\t},\n",
       "\t{\n",
       "\t\t\"Activity_Segment_JointID\": \"31267101453398288369656452945\",\n",
       "\t\t\"segment_id\": 3126710145339828700,\n",
       "\t\t\"activity_id\": 9656452945,\n",
       "\t\t\"ingest_file_name\": \"segment_efforts_ids\",\n",
       "\t\t\"ingested_at\": \"2023-08-29T22:43:01.062+0000\"\n",
       "\t},\n",
       "\t{\n",
       "\t\t\"Activity_Segment_JointID\": \"31267101453379784689656452945\",\n",
       "\t\t\"segment_id\": 3126710145337978400,\n",
       "\t\t\"activity_id\": 9656452945,\n",
       "\t\t\"ingest_file_name\": \"segment_efforts_ids\",\n",
       "\t\t\"ingested_at\": \"2023-08-29T22:43:01.062+0000\"\n",
       "\t},\n",
       "\t{\n",
       "\t\t\"Activity_Segment_JointID\": \"31267101453370855409656452945\",\n",
       "\t\t\"segment_id\": 3126710145337085400,\n",
       "\t\t\"activity_id\": 9656452945,\n",
       "\t\t\"ingest_file_name\": \"segment_efforts_ids\",\n",
       "\t\t\"ingested_at\": \"2023-08-29T22:43:01.062+0000\"\n",
       "\t},\n",
       "\t{\n",
       "\t\t\"Activity_Segment_JointID\": \"31267101453382201329656452945\",\n",
       "\t\t\"segment_id\": 3126710145338220000,\n",
       "\t\t\"activity_id\": 9656452945,\n",
       "\t\t\"ingest_file_name\": \"segment_efforts_ids\",\n",
       "\t\t\"ingested_at\": \"2023-08-29T22:43:01.062+0000\"\n",
       "\t},\n",
       "\t{\n",
       "\t\t\"Activity_Segment_JointID\": \"31267101453345050609656452945\",\n",
       "\t\t\"segment_id\": 3126710145334505000,\n",
       "\t\t\"activity_id\": 9656452945,\n",
       "\t\t\"ingest_file_name\": \"segment_efforts_ids\",\n",
       "\t\t\"ingested_at\": \"2023-08-29T22:43:01.062+0000\"\n",
       "\t},\n",
       "\t{\n",
       "\t\t\"Activity_Segment_JointID\": \"31267101453367793649656452945\",\n",
       "\t\t\"segment_id\": 3126710145336779300,\n",
       "\t\t\"activity_id\": 9656452945,\n",
       "\t\t\"ingest_file_name\": \"segment_efforts_ids\",\n",
       "\t\t\"ingested_at\": \"2023-08-29T22:43:01.062+0000\"\n",
       "\t},\n",
       "\t{\n",
       "\t\t\"Activity_Segment_JointID\": \"31267101453374296049656452945\",\n",
       "\t\t\"segment_id\": 3126710145337429500,\n",
       "\t\t\"activity_id\": 9656452945,\n",
       "\t\t\"ingest_file_name\": \"segment_efforts_ids\",\n",
       "\t\t\"ingested_at\": \"2023-08-29T22:43:01.062+0000\"\n",
       "\t},\n",
       "\t{\n",
       "\t\t\"Activity_Segment_JointID\": \"31267101453358905329656452945\",\n",
       "\t\t\"segment_id\": 3126710145335890400,\n",
       "\t\t\"activity_id\": 9656452945,\n",
       "\t\t\"ingest_file_name\": \"segment_efforts_ids\",\n",
       "\t\t\"ingested_at\": \"2023-08-29T22:43:01.062+0000\"\n",
       "\t},\n",
       "\t{\n",
       "\t\t\"Activity_Segment_JointID\": \"31267101453353365489656452945\",\n",
       "\t\t\"segment_id\": 3126710145335336400,\n",
       "\t\t\"activity_id\": 9656452945,\n",
       "\t\t\"ingest_file_name\": \"segment_efforts_ids\",\n",
       "\t\t\"ingested_at\": \"2023-08-29T22:43:01.062+0000\"\n",
       "\t},\n",
       "\t{\n",
       "\t\t\"Activity_Segment_JointID\": \"31267101453375350769656452945\",\n",
       "\t\t\"segment_id\": 3126710145337535000,\n",
       "\t\t\"activity_id\": 9656452945,\n",
       "\t\t\"ingest_file_name\": \"segment_efforts_ids\",\n",
       "\t\t\"ingested_at\": \"2023-08-29T22:43:01.062+0000\"\n",
       "\t},\n",
       "\t{\n",
       "\t\t\"Activity_Segment_JointID\": \"31267101453345429489656452945\",\n",
       "\t\t\"segment_id\": 3126710145334543000,\n",
       "\t\t\"activity_id\": 9656452945,\n",
       "\t\t\"ingest_file_name\": \"segment_efforts_ids\",\n",
       "\t\t\"ingested_at\": \"2023-08-29T22:43:01.062+0000\"\n",
       "\t},\n",
       "\t{\n",
       "\t\t\"Activity_Segment_JointID\": \"31267101453379119089656452945\",\n",
       "\t\t\"segment_id\": 3126710145337912000,\n",
       "\t\t\"activity_id\": 9656452945,\n",
       "\t\t\"ingest_file_name\": \"segment_efforts_ids\",\n",
       "\t\t\"ingested_at\": \"2023-08-29T22:43:01.062+0000\"\n",
       "\t},\n",
       "\t{\n",
       "\t\t\"Activity_Segment_JointID\": \"31267101453367855089656452945\",\n",
       "\t\t\"segment_id\": 3126710145336785400,\n",
       "\t\t\"activity_id\": 9656452945,\n",
       "\t\t\"ingest_file_name\": \"segment_efforts_ids\",\n",
       "\t\t\"ingested_at\": \"2023-08-29T22:43:01.062+0000\"\n",
       "\t},\n",
       "\t{\n",
       "\t\t\"Activity_Segment_JointID\": \"31267101453359212529656452945\",\n",
       "\t\t\"segment_id\": 3126710145335921000,\n",
       "\t\t\"activity_id\": 9656452945,\n",
       "\t\t\"ingest_file_name\": \"segment_efforts_ids\",\n",
       "\t\t\"ingested_at\": \"2023-08-29T22:43:01.062+0000\"\n",
       "\t},\n",
       "\t{\n",
       "\t\t\"Activity_Segment_JointID\": \"31267101453354491889656452945\",\n",
       "\t\t\"segment_id\": 3126710145335449000,\n",
       "\t\t\"activity_id\": 9656452945,\n",
       "\t\t\"ingest_file_name\": \"segment_efforts_ids\",\n",
       "\t\t\"ingested_at\": \"2023-08-29T22:43:01.062+0000\"\n",
       "\t},\n",
       "\t{\n",
       "\t\t\"Activity_Segment_JointID\": \"31267101453343197169656452945\",\n",
       "\t\t\"segment_id\": 3126710145334319600,\n",
       "\t\t\"activity_id\": 9656452945,\n",
       "\t\t\"ingest_file_name\": \"segment_efforts_ids\",\n",
       "\t\t\"ingested_at\": \"2023-08-29T22:43:01.062+0000\"\n",
       "\t},\n",
       "\t{\n",
       "\t\t\"Activity_Segment_JointID\": \"31267101453359560689656452945\",\n",
       "\t\t\"segment_id\": 3126710145335956000,\n",
       "\t\t\"activity_id\": 9656452945,\n",
       "\t\t\"ingest_file_name\": \"segment_efforts_ids\",\n",
       "\t\t\"ingested_at\": \"2023-08-29T22:43:01.062+0000\"\n",
       "\t},\n",
       "\t{\n",
       "\t\t\"Activity_Segment_JointID\": \"31267101453373569009656452945\",\n",
       "\t\t\"segment_id\": 3126710145337357000,\n",
       "\t\t\"activity_id\": 9656452945,\n",
       "\t\t\"ingest_file_name\": \"segment_efforts_ids\",\n",
       "\t\t\"ingested_at\": \"2023-08-29T22:43:01.062+0000\"\n",
       "\t},\n",
       "\t{\n",
       "\t\t\"Activity_Segment_JointID\": \"31267101453374429169656452945\",\n",
       "\t\t\"segment_id\": 3126710145337443000,\n",
       "\t\t\"activity_id\": 9656452945,\n",
       "\t\t\"ingest_file_name\": \"segment_efforts_ids\",\n",
       "\t\t\"ingested_at\": \"2023-08-29T22:43:01.062+0000\"\n",
       "\t},\n",
       "\t{\n",
       "\t\t\"Activity_Segment_JointID\": \"9663381569\",\n",
       "\t\t\"segment_id\": null,\n",
       "\t\t\"activity_id\": 9663381569,\n",
       "\t\t\"ingest_file_name\": \"segment_efforts_ids\",\n",
       "\t\t\"ingested_at\": \"2023-08-29T22:43:01.062+0000\"\n",
       "\t},\n",
       "\t{\n",
       "\t\t\"Activity_Segment_JointID\": \"9635250821\",\n",
       "\t\t\"segment_id\": null,\n",
       "\t\t\"activity_id\": 9635250821,\n",
       "\t\t\"ingest_file_name\": \"segment_efforts_ids\",\n",
       "\t\t\"ingested_at\": \"2023-08-29T22:43:01.062+0000\"\n",
       "\t}\n",
       "]"
      ]
     },
     "metadata": {},
     "output_type": "display_data"
    }
   ],
   "source": [
    "all_segments = spark.read.load(segment_effort_path)\n",
    "all_segments.display()"
   ]
  },
  {
   "cell_type": "code",
   "execution_count": 26,
   "metadata": {},
   "outputs": [
    {
     "name": "stdout",
     "output_type": "stream",
     "text": []
    }
   ],
   "source": [
    "#segments with activities \n",
    "all_segments = spark.read.load(segment_effort_path)\n",
    "#isolate segment IDS\n",
    "all_segment_ids = all_segments.select(\"segment_id\").distinct().rdd.flatMap(lambda x: x).collect()\n",
    "\n",
    "# segment details\n",
    "segment_details = spark.read.load(segment_details_path)\n",
    "segment_details_ids = segment_details.select(\"returned_segment\").distinct().rdd.flatMap(lambda x: x).collect()\n",
    "#extract segment id values\n",
    "\n",
    "#comparison to feed to function\n",
    "segment_details_to_query = utils.list_comparison(segment_details_ids, all_segment_ids)\n",
    "\n",
    "#grab the max amount of segments we can query within the API contraints\n",
    "if len(segment_details_to_query) > 0  and post_activity_api_limit > 0 :\n",
    "    api_limit_segments = segment_details_to_query[:post_activity_api_limit]\n",
    "    #had to removed 'none' values from the list \n",
    "    api_limit_segments_filtered =[x for x in api_limit_segments if x is not None] \n",
    "    returned_segment_details = utils.query_segment_details(api_limit_segments_filtered, access_token)\n",
    "\n",
    "    #write to storage \n",
    "    utils.write_dataframe_to_storage(returned_segment_details,segment_details_path, \"mergeSchema\", \"append\" )\n"
   ]
  },
  {
   "cell_type": "markdown",
   "metadata": {},
   "source": [
    "#### Scratch Work"
   ]
  },
  {
   "cell_type": "code",
   "execution_count": null,
   "metadata": {},
   "outputs": [],
   "source": [
    "#overwrite the data instorage with a small dataset\n",
    "#two of these do not have segments, will need to append in\n",
    "activity_id_subset = [9663381569,9656452945,9635250821]"
   ]
  },
  {
   "cell_type": "code",
   "execution_count": null,
   "metadata": {},
   "outputs": [],
   "source": [
    "returned_segment_details.display()"
   ]
  },
  {
   "cell_type": "code",
   "execution_count": null,
   "metadata": {},
   "outputs": [],
   "source": [
    "activity_id_list = [9663381569,9656452945,9635250821, 9578982519,9559341308,9515669005,9408871895\n",
    ",9298361043,9248492217,9235757648]\n",
    "\n",
    "activity_id_subset = [9663381569,9656452945,9635250821]"
   ]
  },
  {
   "cell_type": "code",
   "execution_count": null,
   "metadata": {},
   "outputs": [],
   "source": [
    "activity_ids_not_written_to_storage = [x for x in activity_id_list if x not in activity_id_subset ]"
   ]
  }
 ],
 "metadata": {
  "kernelspec": {
   "display_name": "Python 3",
   "language": "python",
   "name": "python3"
  },
  "language_info": {
   "name": "python",
   "version": "3.11.5"
  },
  "orig_nbformat": 4
 },
 "nbformat": 4,
 "nbformat_minor": 2
}
