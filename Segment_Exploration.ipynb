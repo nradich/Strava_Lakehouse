{
 "cells": [
  {
   "cell_type": "code",
   "execution_count": 56,
   "metadata": {},
   "outputs": [
    {
     "data": {
      "text/plain": [
       "Code from file 'file:///c%3A/Users/nicholas.radich/Documents/Strava_Lakehouse/config.py':\n",
       " client_id = dbutils.secrets.get(scope = \"key_vault_secrets\", key = \"clientid\") \r\n",
       "client_secret = dbutils.secrets.get(scope = \"key_vault_secrets\", key = \"clientsecret\") \r\n",
       "new_refresh_token = dbutils.secrets.get(scope = \"key_vault_secrets\", key = \"newrefreshtoken\")\r\n",
       "activity_id_path = dbutils.secrets.get(scope = \"key_vault_secrets\", key = \"activityidpath\") \r\n",
       "historical_activity_id_path = dbutils.secrets.get(scope = \"key_vault_secrets\", key = \"historicalactivitydfpath\") \r\n",
       "segment_effort_path = dbutils.secrets.get(scope = \"key_vault_secrets\", key = \"segmenteffortpath\") \r\n",
       "\r\n",
       "\r\n",
       "\r\n",
       "import requests\r\n",
       "import urllib3\r\n",
       "urllib3.disable_warnings(urllib3.exceptions.InsecureRequestWarning)\r\n",
       "\r\n",
       "auth_url = \"https://www.strava.com/oauth/token\"\r\n",
       "activites_url = \"https://www.strava.com/api/v3/athlete/activities\"\r\n",
       "\r\n",
       "\r\n",
       "payload = {\r\n",
       "    'client_id':  client_id,\r\n",
       "    'client_secret': client_secret,\r\n",
       "    'refresh_token': new_refresh_token,\r\n",
       "    'grant_type': 'refresh_token',\r\n",
       "    'f': 'json'\r\n",
       "}\r\n",
       "\r\n",
       "res = requests.post(auth_url, data=payload, verify=False)\r\n",
       "access_token = res.json()['access_token']"
      ]
     },
     "metadata": {},
     "output_type": "display_data"
    },
    {
     "name": "stdout",
     "output_type": "stream",
     "text": []
    }
   ],
   "source": [
    "%run config"
   ]
  },
  {
   "cell_type": "code",
   "execution_count": null,
   "metadata": {},
   "outputs": [],
   "source": [
    "#base function\n",
    "segment_effort_urls = (\"{}{}?include_all_efforts= True\").format(\"https://www.strava.com/api/v3/segment_efforts/\",id)\n",
    "header = {'Authorization': 'Bearer ' + access_token}\n",
    "param = {'per_page': 200, 'page': 1}\n",
    "segments = requests.get(segment_effort_urls, headers=header, params=param).json()"
   ]
  },
  {
   "cell_type": "code",
   "execution_count": 59,
   "metadata": {},
   "outputs": [
    {
     "data": {
      "text/html": [
       "ClusterNotReadyException: Cluster 0814-223620-9hojcaz not currently ready for driver client (currently Terminated)"
      ]
     },
     "metadata": {},
     "output_type": "display_data"
    },
    {
     "ename": "Error",
     "evalue": "ClusterNotReadyException: Cluster 0814-223620-9hojcaz not currently ready for driver client (currently Terminated)",
     "output_type": "error",
     "traceback": [
      "Error: ClusterNotReadyException: Cluster 0814-223620-9hojcaz not currently ready for driver client (currently Terminated)\n",
      "\tat d._doExecution (c:\\Users\\nicholas.radich\\.vscode\\extensions\\paiqo.databricks-vscode-2.2.2\\dist\\node\\extension.js:2:64573)\n",
      "\tat process.processTicksAndRejections (node:internal/process/task_queues:96:5)\n",
      "\tat async d.executeHandler (c:\\Users\\nicholas.radich\\.vscode\\extensions\\paiqo.databricks-vscode-2.2.2\\dist\\node\\extension.js:2:55403)\n",
      "\tat async y.$executeCells (c:\\Users\\nicholas.radich\\AppData\\Local\\Programs\\Microsoft VS Code\\resources\\app\\out\\vs\\workbench\\api\\node\\extensionHostProcess.js:104:100503)"
     ]
    }
   ],
   "source": [
    "import pandas as pd\n",
    "\n",
    "segment_list = [3062478812648209570,3062478812650374306,3062478812647400610 ]\n",
    "returned_segment = []\n",
    "returned_activity =[]\n",
    "segment_elevation_high =[]\n",
    "segment_elevation_low = []\n",
    "segement_distance = []\n",
    "activity_max_speed =[]\n",
    "activity_avg_speed =[]\n",
    "activity_start_date =[]\n",
    "segment_pr_date = []\n",
    "segment_pr_time=[]\n",
    "segment_name = []\n",
    "activity_type = []\n",
    "segment_distance = []\n",
    "\n",
    "\n",
    "\n",
    "#segment_elevation\n",
    "\n",
    "\n",
    "segments['segment']['distance']\n",
    "\n",
    "\n",
    "for segments in segment_list:\n",
    "    segment_effort_urls = (\"{}{}?include_all_efforts= True\").format(\"https://www.strava.com/api/v3/segment_efforts/\",segments)\n",
    "    header = {'Authorization': 'Bearer ' + access_token}\n",
    "    param = {'per_page': 200, 'page': 1}\n",
    "    segments = requests.get(segment_effort_urls, headers=header, params=param).json()\n",
    "\n",
    "    elevation_low = segments['segment']['elevation_low']\n",
    "    elevation_high = segments['segment']['elevation_high']\n",
    "    segment_distance = segments['segment']['distance']\n",
    "    segment_id = segments['id']\n",
    "    segment_name = segments['name']\n",
    "    activity_name = segments['activity']['name']\n",
    "    activity_id = segments['activity']['id']\n",
    "    activity_max_speed_extract = segments['activity']['max_speed']\n",
    "    activity_avg_speed_extract = segments['activity']['average_speed']\n",
    "    activity_start_date_extract = segments['activity']['start_date']\n",
    "    segment_pr_date_extract = segments['athlete_segment_stats']['pr_date']\n",
    "    segment_pr_time_extract = segments['athlete_segment_stats']['pr_elapsed_time']\n",
    "    segment_name_extract = segments['name']\n",
    "    activity_type_extract = segments['activity']['type']\n",
    "    segment_distance_extract = segments['segment']['distance']\n",
    "\n",
    "    returned_segment.append(segment_id)\n",
    "    returned_activity.append(activity_id)\n",
    "    segment_pr_time\n",
    "    segment_elevation_low\n",
    "    activity_max_speed.append(activity_max_speed_extract)\n",
    "    activity_avg_speed.append(activity_avg_speed_extract)\n",
    "    segment_elevation_high.append(elevation_high)\n",
    "    activity_start_date.append(activity_start_date_extract)\n",
    "    segment_pr_date.append(segment_pr_date_extract)\n",
    "    segment_pr_time.append(segment_pr_time_extract)\n",
    "    segment_name.append(segment_name_extract)\n",
    "    activity_type.append(activity_type_extract)\n",
    "    segment_distance.append(segment_distance_extract)\n",
    "\n",
    "    columns = ['segment_id', 'activity_id', 'segment_elevation_high']\n",
    "\n",
    "    extracted_data = [returned_segment,returned_activity,segment_elevation_high ]\n",
    "\n",
    "    segment_data_df = pd.DataFrame.from_dict(dict(zip(columns, extracted_data)))\n",
    "\n",
    "    segment_spark_df = spark.createDataFrame(segment_data_df)\n",
    "\n",
    "\n"
   ]
  },
  {
   "cell_type": "code",
   "execution_count": null,
   "metadata": {},
   "outputs": [],
   "source": [
    "for i in segment_elevation_high:\n",
    "    print (i)"
   ]
  },
  {
   "cell_type": "code",
   "execution_count": 58,
   "metadata": {},
   "outputs": [
    {
     "data": {
      "text/plain": [
       "+-------------------+-----------+----------------------+\n",
       "|         segment_id|activity_id|segment_elevation_high|\n",
       "+-------------------+-----------+----------------------+\n",
       "|3062478812648209570| 8589595490|                 148.8|\n",
       "|3062478812650374306| 8589595490|                  80.0|\n",
       "|3062478812647400610| 8589595490|                 104.2|\n",
       "+-------------------+-----------+----------------------+"
      ]
     },
     "metadata": {},
     "output_type": "display_data"
    }
   ],
   "source": [
    "segment_spark_df.show()"
   ]
  },
  {
   "cell_type": "code",
   "execution_count": null,
   "metadata": {},
   "outputs": [],
   "source": [
    "\n",
    "segment_effort_urls = (\"{}{}?include_all_efforts= True\").format(\"https://www.strava.com/api/v3/segment_efforts/\",3062478812650374306)\n",
    "header = {'Authorization': 'Bearer ' + access_token}\n",
    "param = {'per_page': 200, 'page': 1}\n",
    "segments = requests.get(segment_effort_urls, headers=header, params=param).json()"
   ]
  },
  {
   "cell_type": "code",
   "execution_count": null,
   "metadata": {},
   "outputs": [],
   "source": [
    "#segment id\n",
    "segments['id']\n",
    "\n",
    "#name of segment\n",
    "segments['name']\n",
    "\n",
    "#activity_name\n",
    "segments['activity']['name']\n",
    "\n",
    "#activity_id\n",
    "segments['activity']['id']\n",
    "\n",
    "#activity_type\n",
    "segments['activity']['type']\n",
    "\n",
    "#achievement count \n",
    "segments['activity']['achievement_count']\n",
    "\n",
    "#comment_count \n",
    "segments['activity']['comment_count']\n",
    "\n",
    "#pr time for segment\n",
    "segments['athlete_segment_stats']['pr_elapsed_time']\n",
    "\n",
    "#pr date\n",
    "segments['athlete_segment_stats']['pr_date']\n",
    "\n",
    "#activity date, see if was the pr date\n",
    "segments['activity']['start_date']\n",
    "\n",
    "#average speed of segment\n",
    "segments['activity']['average_speed']\n",
    "\n",
    "#max speed of segment\n",
    "segments['activity']['max_speed']\n",
    "\n",
    "#segment_elevation\n",
    "segments['segment']['elevation_low']\n",
    "\n",
    "segments['segment']['elevation_high']\n",
    "\n",
    "segments['segment']['distance']\n",
    "\n",
    "\n",
    "\n",
    "\n",
    "#date of activity\n",
    "\n",
    "\n"
   ]
  },
  {
   "cell_type": "code",
   "execution_count": null,
   "metadata": {},
   "outputs": [],
   "source": [
    "segments"
   ]
  },
  {
   "cell_type": "code",
   "execution_count": null,
   "metadata": {},
   "outputs": [],
   "source": [
    "#activity_name\n",
    "segments['segment']['elevation_low']\n"
   ]
  },
  {
   "cell_type": "markdown",
   "metadata": {},
   "source": [
    "can see if max speed happen in segment\n",
    "can see if PR happen on that date\n"
   ]
  },
  {
   "cell_type": "markdown",
   "metadata": {},
   "source": []
  }
 ],
 "metadata": {
  "language_info": {
   "name": "python"
  },
  "orig_nbformat": 4
 },
 "nbformat": 4,
 "nbformat_minor": 2
}
