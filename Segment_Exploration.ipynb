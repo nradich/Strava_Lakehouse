{
 "cells": [
  {
   "cell_type": "code",
   "execution_count": null,
   "metadata": {},
   "outputs": [],
   "source": [
    "%run config"
   ]
  },
  {
   "cell_type": "code",
   "execution_count": null,
   "metadata": {},
   "outputs": [],
   "source": [
    "import pandas as pd\n",
    "\n",
    "segment_list = [3062478812648209570,3062478812650374306,3062478812647400610 ]\n",
    "#empty lists of values to parse from API call\n",
    "returned_segment = []\n",
    "segment_name = []\n",
    "returned_activity =[]\n",
    "activity_name = []\n",
    "activity_type = []\n",
    "segment_elevation_high =[]\n",
    "segment_elevation_low = []\n",
    "segment_distance = []\n",
    "activity_max_speed =[]\n",
    "activity_avg_speed =[]\n",
    "activity_start_date =[]\n",
    "segment_pr_date = []\n",
    "segment_pr_time=[]\n",
    "\n",
    "\n",
    "#loop through submitted segments and request segment information\n",
    "for segments in segment_list:\n",
    "    segment_effort_urls = (\"{}{}?include_all_efforts= True\").format(\"https://www.strava.com/api/v3/segment_efforts/\",segments)\n",
    "    header = {'Authorization': 'Bearer ' + access_token}\n",
    "    param = {'per_page': 200, 'page': 1}\n",
    "    segments = requests.get(segment_effort_urls, headers=header, params=param).json()\n",
    "\n",
    "#json navigation to extract values from API call\n",
    "    segment_id = segments['id']\n",
    "    segment_name_extract = segments['name']\n",
    "    activity_id = segments['activity']['id']\n",
    "    activity_name_extract = segments['activity']['name']\n",
    "    activity_type_extract = segments['activity']['type']\n",
    "    elevation_high = segments['segment']['elevation_high']\n",
    "    elevation_low = segments['segment']['elevation_low']\n",
    "    segment_distance_extract = segments['segment']['distance']\n",
    "    activity_max_speed_extract = segments['activity']['max_speed']\n",
    "    activity_avg_speed_extract = segments['activity']['average_speed']\n",
    "    activity_start_date_extract = segments['activity']['start_date']\n",
    "    segment_pr_date_extract = segments['athlete_segment_stats']['pr_date']\n",
    "    segment_pr_time_extract = segments['athlete_segment_stats']['pr_elapsed_time']\n",
    "\n",
    "#Append extracted values to lists\n",
    "    returned_segment.append(segment_id)\n",
    "    segment_name.append(segment_name_extract)\n",
    "    returned_activity.append(activity_id)\n",
    "    activity_name.append(activity_name_extract)\n",
    "    activity_type.append(activity_type_extract)\n",
    "    segment_elevation_high.append(elevation_high)\n",
    "    segment_elevation_low.append(elevation_low)\n",
    "    segment_distance.append(segment_distance_extract)\n",
    "    activity_max_speed.append(activity_max_speed_extract)\n",
    "    activity_avg_speed.append(activity_avg_speed_extract)\n",
    "    activity_start_date.append(activity_start_date_extract)    \n",
    "    segment_pr_date.append(segment_pr_date_extract)\n",
    "    segment_pr_time.append(segment_pr_time_extract)\n",
    "\n",
    "\n",
    "\n",
    "    columns = ['returned_segment','segment_name','returned_activity' ,'activity_name' ,'activity_type' ,'segment_elevation_high' ,\n",
    "            'segment_elevation_low' ,'segement_distance' ,'activity_max_speed','activity_avg_speed','activity_start_date', \n",
    "            'segment_pr_date' ,'segment_pr_time']\n",
    "\n",
    "    extracted_data = [returned_segment,segment_name,returned_activity,activity_name,activity_type ,\n",
    "                        segment_elevation_high,segment_elevation_low,segment_distance ,activity_max_speed,\n",
    "                        activity_avg_speed,activity_start_date,segment_pr_date ,segment_pr_time ]\n",
    "\n",
    "#combined extracted values and associated columns names to a DF\n",
    "    segment_data_df = pd.DataFrame.from_dict(dict(zip(columns, extracted_data)))\n",
    "\n",
    "#convert pandas DF to spark DF\n",
    "    segment_spark_df = spark.createDataFrame(segment_data_df)\n",
    "\n",
    "\n"
   ]
  },
  {
   "cell_type": "code",
   "execution_count": null,
   "metadata": {},
   "outputs": [],
   "source": [
    "segment_spark_df.display()"
   ]
  },
  {
   "cell_type": "markdown",
   "metadata": {},
   "source": [
    "can see if max speed happen in segment\n",
    "can see if PR happen on that date\n"
   ]
  },
  {
   "cell_type": "markdown",
   "metadata": {},
   "source": []
  }
 ],
 "metadata": {
  "language_info": {
   "name": "python"
  },
  "orig_nbformat": 4
 },
 "nbformat": 4,
 "nbformat_minor": 2
}
